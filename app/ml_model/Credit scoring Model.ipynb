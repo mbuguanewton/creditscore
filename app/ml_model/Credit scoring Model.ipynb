{
 "cells": [
  {
   "cell_type": "code",
   "execution_count": 1,
   "metadata": {},
   "outputs": [
    {
     "name": "stdout",
     "output_type": "stream",
     "text": [
      "Checking whether there is an H2O instance running at http://localhost:54321 . connected.\n"
     ]
    },
    {
     "data": {
      "text/html": [
       "<div style=\"overflow:auto\"><table style=\"width:50%\"><tr><td>H2O cluster uptime:</td>\n",
       "<td>29 mins 30 secs</td></tr>\n",
       "<tr><td>H2O cluster timezone:</td>\n",
       "<td>Africa/Nairobi</td></tr>\n",
       "<tr><td>H2O data parsing timezone:</td>\n",
       "<td>UTC</td></tr>\n",
       "<tr><td>H2O cluster version:</td>\n",
       "<td>3.26.0.2</td></tr>\n",
       "<tr><td>H2O cluster version age:</td>\n",
       "<td>10 days </td></tr>\n",
       "<tr><td>H2O cluster name:</td>\n",
       "<td>H2O_from_python_root_91eopm</td></tr>\n",
       "<tr><td>H2O cluster total nodes:</td>\n",
       "<td>1</td></tr>\n",
       "<tr><td>H2O cluster free memory:</td>\n",
       "<td>2.902 Gb</td></tr>\n",
       "<tr><td>H2O cluster total cores:</td>\n",
       "<td>4</td></tr>\n",
       "<tr><td>H2O cluster allowed cores:</td>\n",
       "<td>4</td></tr>\n",
       "<tr><td>H2O cluster status:</td>\n",
       "<td>locked, healthy</td></tr>\n",
       "<tr><td>H2O connection url:</td>\n",
       "<td>http://localhost:54321</td></tr>\n",
       "<tr><td>H2O connection proxy:</td>\n",
       "<td>None</td></tr>\n",
       "<tr><td>H2O internal security:</td>\n",
       "<td>False</td></tr>\n",
       "<tr><td>H2O API Extensions:</td>\n",
       "<td>Amazon S3, XGBoost, Algos, AutoML, Core V3, Core V4</td></tr>\n",
       "<tr><td>Python version:</td>\n",
       "<td>3.6.8 final</td></tr></table></div>"
      ],
      "text/plain": [
       "--------------------------  ---------------------------------------------------\n",
       "H2O cluster uptime:         29 mins 30 secs\n",
       "H2O cluster timezone:       Africa/Nairobi\n",
       "H2O data parsing timezone:  UTC\n",
       "H2O cluster version:        3.26.0.2\n",
       "H2O cluster version age:    10 days\n",
       "H2O cluster name:           H2O_from_python_root_91eopm\n",
       "H2O cluster total nodes:    1\n",
       "H2O cluster free memory:    2.902 Gb\n",
       "H2O cluster total cores:    4\n",
       "H2O cluster allowed cores:  4\n",
       "H2O cluster status:         locked, healthy\n",
       "H2O connection url:         http://localhost:54321\n",
       "H2O connection proxy:\n",
       "H2O internal security:      False\n",
       "H2O API Extensions:         Amazon S3, XGBoost, Algos, AutoML, Core V3, Core V4\n",
       "Python version:             3.6.8 final\n",
       "--------------------------  ---------------------------------------------------"
      ]
     },
     "metadata": {},
     "output_type": "display_data"
    }
   ],
   "source": [
    "import pandas as pd\n",
    "import h2o,os\n",
    "import numpy as np\n",
    "import matplotlib.pyplot as plt\n",
    "h2o.init()\n",
    "import warnings\n",
    "warnings.filterwarnings('ignore')"
   ]
  },
  {
   "cell_type": "code",
   "execution_count": 2,
   "metadata": {},
   "outputs": [
    {
     "data": {
      "text/html": [
       "<div>\n",
       "<style scoped>\n",
       "    .dataframe tbody tr th:only-of-type {\n",
       "        vertical-align: middle;\n",
       "    }\n",
       "\n",
       "    .dataframe tbody tr th {\n",
       "        vertical-align: top;\n",
       "    }\n",
       "\n",
       "    .dataframe thead th {\n",
       "        text-align: right;\n",
       "    }\n",
       "</style>\n",
       "<table border=\"1\" class=\"dataframe\">\n",
       "  <thead>\n",
       "    <tr style=\"text-align: right;\">\n",
       "      <th></th>\n",
       "      <th>loan_amnt</th>\n",
       "      <th>funded_amnt</th>\n",
       "      <th>installment</th>\n",
       "      <th>int_rate</th>\n",
       "      <th>term</th>\n",
       "      <th>emp_length</th>\n",
       "      <th>home_ownership</th>\n",
       "      <th>annual_inc</th>\n",
       "      <th>purpose</th>\n",
       "      <th>loan_status</th>\n",
       "    </tr>\n",
       "  </thead>\n",
       "  <tbody>\n",
       "    <tr>\n",
       "      <th>0</th>\n",
       "      <td>5000.0</td>\n",
       "      <td>5000.0</td>\n",
       "      <td>162.87</td>\n",
       "      <td>10.65%</td>\n",
       "      <td>36 months</td>\n",
       "      <td>10+ years</td>\n",
       "      <td>RENT</td>\n",
       "      <td>24000.0</td>\n",
       "      <td>credit_card</td>\n",
       "      <td>Fully Paid</td>\n",
       "    </tr>\n",
       "    <tr>\n",
       "      <th>1</th>\n",
       "      <td>2500.0</td>\n",
       "      <td>2500.0</td>\n",
       "      <td>59.83</td>\n",
       "      <td>15.27%</td>\n",
       "      <td>60 months</td>\n",
       "      <td>&lt; 1 year</td>\n",
       "      <td>RENT</td>\n",
       "      <td>30000.0</td>\n",
       "      <td>car</td>\n",
       "      <td>Charged Off</td>\n",
       "    </tr>\n",
       "    <tr>\n",
       "      <th>2</th>\n",
       "      <td>2400.0</td>\n",
       "      <td>2400.0</td>\n",
       "      <td>84.33</td>\n",
       "      <td>15.96%</td>\n",
       "      <td>36 months</td>\n",
       "      <td>10+ years</td>\n",
       "      <td>RENT</td>\n",
       "      <td>12252.0</td>\n",
       "      <td>small_business</td>\n",
       "      <td>Fully Paid</td>\n",
       "    </tr>\n",
       "    <tr>\n",
       "      <th>3</th>\n",
       "      <td>10000.0</td>\n",
       "      <td>10000.0</td>\n",
       "      <td>339.31</td>\n",
       "      <td>13.49%</td>\n",
       "      <td>36 months</td>\n",
       "      <td>10+ years</td>\n",
       "      <td>RENT</td>\n",
       "      <td>49200.0</td>\n",
       "      <td>other</td>\n",
       "      <td>Fully Paid</td>\n",
       "    </tr>\n",
       "    <tr>\n",
       "      <th>4</th>\n",
       "      <td>3000.0</td>\n",
       "      <td>3000.0</td>\n",
       "      <td>67.79</td>\n",
       "      <td>12.69%</td>\n",
       "      <td>60 months</td>\n",
       "      <td>1 year</td>\n",
       "      <td>RENT</td>\n",
       "      <td>80000.0</td>\n",
       "      <td>other</td>\n",
       "      <td>Fully Paid</td>\n",
       "    </tr>\n",
       "  </tbody>\n",
       "</table>\n",
       "</div>"
      ],
      "text/plain": [
       "   loan_amnt  funded_amnt  installment int_rate        term emp_length  \\\n",
       "0     5000.0       5000.0       162.87   10.65%   36 months  10+ years   \n",
       "1     2500.0       2500.0        59.83   15.27%   60 months   < 1 year   \n",
       "2     2400.0       2400.0        84.33   15.96%   36 months  10+ years   \n",
       "3    10000.0      10000.0       339.31   13.49%   36 months  10+ years   \n",
       "4     3000.0       3000.0        67.79   12.69%   60 months     1 year   \n",
       "\n",
       "  home_ownership  annual_inc         purpose  loan_status  \n",
       "0           RENT     24000.0     credit_card   Fully Paid  \n",
       "1           RENT     30000.0             car  Charged Off  \n",
       "2           RENT     12252.0  small_business   Fully Paid  \n",
       "3           RENT     49200.0           other   Fully Paid  \n",
       "4           RENT     80000.0           other   Fully Paid  "
      ]
     },
     "execution_count": 2,
     "metadata": {},
     "output_type": "execute_result"
    }
   ],
   "source": [
    "df =pd.read_csv('LoanStats3a.csv')\n",
    "df.shape\n",
    "#os.listdir()\n",
    "df.columns\n",
    "useful =['loan_amnt','funded_amnt','installment','int_rate',\n",
    "         'term','emp_length','home_ownership','annual_inc','purpose','loan_status']\n",
    "df =df[useful]\n",
    "df.head()"
   ]
  },
  {
   "cell_type": "code",
   "execution_count": 3,
   "metadata": {},
   "outputs": [
    {
     "data": {
      "text/plain": [
       "loan_amnt          0\n",
       "funded_amnt        0\n",
       "installment        0\n",
       "int_rate           0\n",
       "term               0\n",
       "emp_length         0\n",
       "home_ownership     0\n",
       "annual_inc         0\n",
       "purpose            0\n",
       "loan_status        0\n",
       "loan_status_bin    0\n",
       "dtype: int64"
      ]
     },
     "execution_count": 3,
     "metadata": {},
     "output_type": "execute_result"
    }
   ],
   "source": [
    "loans =df.copy()\n",
    "loans = loans[(loans['loan_status']=='Fully Paid') | (loans['loan_status']=='Charged Off')]\n",
    "loans['loan_status_bin'] = loans['loan_status'].map({'Charged Off': 1, 'Fully Paid': 0}) # 0 good loans 1 bad loans\n",
    "loans[\"int_rate\"]=[float(i.replace(\"%\",\"\")) for i in loans.int_rate]\n",
    "loans['term'] =[int(i[:3]) for i in loans.term]\n",
    "loans.head()\n",
    "loans.isnull().sum()\n",
    "loans = loans.fillna(0)\n",
    "loans.isnull().sum()"
   ]
  },
  {
   "cell_type": "code",
   "execution_count": 4,
   "metadata": {},
   "outputs": [
    {
     "data": {
      "text/plain": [
       "10    8899\n",
       "1     7837\n",
       "2     4394\n",
       "3     4098\n",
       "4     3444\n",
       "5     3286\n",
       "6     2231\n",
       "7     1775\n",
       "8     1485\n",
       "9     1259\n",
       "0     1078\n",
       "Name: emp_length, dtype: int64"
      ]
     },
     "execution_count": 4,
     "metadata": {},
     "output_type": "execute_result"
    }
   ],
   "source": [
    "loans['emp_length'] = [str(i).replace('years',\"\") for i in loans['emp_length'] ]\n",
    "#loans['emp_length'] = loans['emp_length'].fillna(0)\n",
    "loans['emp_length'] = [str(i).replace('year',\"\") for i in loans['emp_length'] ]\n",
    "loans['emp_length'] = [str(i).replace('<',\"\") for i in loans['emp_length'] ]\n",
    "loans['emp_length'] = [str(i).replace('+',\"\") for i in loans['emp_length'] ]\n",
    "\n",
    "loans['emp_length'] = [int(i) for i in loans['emp_length'] ]\n",
    "\n",
    "loans.emp_length.value_counts()\n"
   ]
  },
  {
   "cell_type": "code",
   "execution_count": 5,
   "metadata": {},
   "outputs": [
    {
     "name": "stdout",
     "output_type": "stream",
     "text": [
      "(34116, 11) (5670, 11) (11340, 11)\n"
     ]
    },
    {
     "data": {
      "text/html": [
       "<div>\n",
       "<style scoped>\n",
       "    .dataframe tbody tr th:only-of-type {\n",
       "        vertical-align: middle;\n",
       "    }\n",
       "\n",
       "    .dataframe tbody tr th {\n",
       "        vertical-align: top;\n",
       "    }\n",
       "\n",
       "    .dataframe thead th {\n",
       "        text-align: right;\n",
       "    }\n",
       "</style>\n",
       "<table border=\"1\" class=\"dataframe\">\n",
       "  <thead>\n",
       "    <tr style=\"text-align: right;\">\n",
       "      <th></th>\n",
       "      <th>loan_amnt</th>\n",
       "      <th>funded_amnt</th>\n",
       "      <th>installment</th>\n",
       "      <th>int_rate</th>\n",
       "      <th>term</th>\n",
       "      <th>emp_length</th>\n",
       "      <th>home_ownership</th>\n",
       "      <th>annual_inc</th>\n",
       "      <th>purpose</th>\n",
       "      <th>loan_status</th>\n",
       "      <th>loan_status_bin</th>\n",
       "    </tr>\n",
       "  </thead>\n",
       "  <tbody>\n",
       "    <tr>\n",
       "      <th>2626</th>\n",
       "      <td>3650.0</td>\n",
       "      <td>3650.0</td>\n",
       "      <td>91.86</td>\n",
       "      <td>17.58</td>\n",
       "      <td>60</td>\n",
       "      <td>4</td>\n",
       "      <td>RENT</td>\n",
       "      <td>29000.0</td>\n",
       "      <td>debt_consolidation</td>\n",
       "      <td>Fully Paid</td>\n",
       "      <td>Good</td>\n",
       "    </tr>\n",
       "    <tr>\n",
       "      <th>5296</th>\n",
       "      <td>10800.0</td>\n",
       "      <td>10800.0</td>\n",
       "      <td>381.25</td>\n",
       "      <td>16.29</td>\n",
       "      <td>36</td>\n",
       "      <td>9</td>\n",
       "      <td>RENT</td>\n",
       "      <td>75000.0</td>\n",
       "      <td>other</td>\n",
       "      <td>Charged Off</td>\n",
       "      <td>bad</td>\n",
       "    </tr>\n",
       "    <tr>\n",
       "      <th>11840</th>\n",
       "      <td>18225.0</td>\n",
       "      <td>15150.0</td>\n",
       "      <td>384.63</td>\n",
       "      <td>17.99</td>\n",
       "      <td>60</td>\n",
       "      <td>6</td>\n",
       "      <td>MORTGAGE</td>\n",
       "      <td>42000.0</td>\n",
       "      <td>debt_consolidation</td>\n",
       "      <td>Charged Off</td>\n",
       "      <td>bad</td>\n",
       "    </tr>\n",
       "    <tr>\n",
       "      <th>38595</th>\n",
       "      <td>12000.0</td>\n",
       "      <td>12000.0</td>\n",
       "      <td>407.17</td>\n",
       "      <td>13.49</td>\n",
       "      <td>36</td>\n",
       "      <td>1</td>\n",
       "      <td>RENT</td>\n",
       "      <td>55000.0</td>\n",
       "      <td>debt_consolidation</td>\n",
       "      <td>Charged Off</td>\n",
       "      <td>bad</td>\n",
       "    </tr>\n",
       "    <tr>\n",
       "      <th>19872</th>\n",
       "      <td>5000.0</td>\n",
       "      <td>5000.0</td>\n",
       "      <td>116.79</td>\n",
       "      <td>14.17</td>\n",
       "      <td>60</td>\n",
       "      <td>3</td>\n",
       "      <td>RENT</td>\n",
       "      <td>72000.0</td>\n",
       "      <td>credit_card</td>\n",
       "      <td>Charged Off</td>\n",
       "      <td>bad</td>\n",
       "    </tr>\n",
       "  </tbody>\n",
       "</table>\n",
       "</div>"
      ],
      "text/plain": [
       "       loan_amnt  funded_amnt  installment  int_rate  term  emp_length  \\\n",
       "2626      3650.0       3650.0        91.86     17.58    60           4   \n",
       "5296     10800.0      10800.0       381.25     16.29    36           9   \n",
       "11840    18225.0      15150.0       384.63     17.99    60           6   \n",
       "38595    12000.0      12000.0       407.17     13.49    36           1   \n",
       "19872     5000.0       5000.0       116.79     14.17    60           3   \n",
       "\n",
       "      home_ownership  annual_inc             purpose  loan_status  \\\n",
       "2626            RENT     29000.0  debt_consolidation   Fully Paid   \n",
       "5296            RENT     75000.0               other  Charged Off   \n",
       "11840       MORTGAGE     42000.0  debt_consolidation  Charged Off   \n",
       "38595           RENT     55000.0  debt_consolidation  Charged Off   \n",
       "19872           RENT     72000.0         credit_card  Charged Off   \n",
       "\n",
       "      loan_status_bin  \n",
       "2626             Good  \n",
       "5296              bad  \n",
       "11840             bad  \n",
       "38595             bad  \n",
       "19872             bad  "
      ]
     },
     "execution_count": 5,
     "metadata": {},
     "output_type": "execute_result"
    }
   ],
   "source": [
    "#balancing\n",
    "loans.loan_status_bin.value_counts()\n",
    "\n",
    "# Balancing the data ti improve overall performance\n",
    "filter1 = loans.loan_status_bin == 0\n",
    "filter2 = loans.loan_status_bin == 1\n",
    "good_loans = loans[filter1]\n",
    "bad_loans = loans[filter2]\n",
    "slices = good_loans.iloc[:5670,:]\n",
    "new = pd.concat((bad_loans,slices),0)\n",
    "print(good_loans.shape,bad_loans.shape,new.shape)\n",
    "new.loan_status_bin.value_counts()\n",
    "new.head()\n",
    "new['loan_status_bin'] =[\"Good\" if i==0 else 'bad' for i in new['loan_status_bin']]\n",
    "new = new.sample(frac=1)#randomize the data\n",
    "new.head()"
   ]
  },
  {
   "cell_type": "code",
   "execution_count": 6,
   "metadata": {},
   "outputs": [
    {
     "name": "stdout",
     "output_type": "stream",
     "text": [
      "Parse progress: |█████████████████████████████████████████████████████████| 100%\n",
      "deeplearning Model Build progress: |██████████████████████████████████████| 100%\n",
      "drf Model Build progress: |███████████████████████████████████████████████| 100%\n",
      "gbm Model Build progress: |███████████████████████████████████████████████| 100%\n"
     ]
    }
   ],
   "source": [
    "#create the model\n",
    "x=['loan_amnt', 'funded_amnt', 'installment', 'int_rate', 'term',\n",
    "       'emp_length', 'home_ownership', 'annual_inc', 'purpose', \n",
    "       ]\n",
    "N =h2o.H2OFrame(new)\n",
    "train,test,valid =N.split_frame([0.8,0.1])\n",
    "from h2o.estimators import H2OGradientBoostingEstimator as GB\n",
    "from h2o.estimators import H2ORandomForestEstimator as RF\n",
    "from h2o.estimators import H2ODeepLearningEstimator as DL\n",
    "\n",
    "model1 = RF()\n",
    "model =GB()\n",
    "model2 = DL()\n",
    "model2.train(x =x,y ='loan_status_bin',training_frame =train,validation_frame =test)\n",
    "model1.train(x =x,y ='loan_status_bin',training_frame =train,validation_frame =test)\n",
    "model.train(x =x,y ='loan_status_bin',training_frame =train,validation_frame =test)"
   ]
  },
  {
   "cell_type": "code",
   "execution_count": 7,
   "metadata": {},
   "outputs": [
    {
     "name": "stdout",
     "output_type": "stream",
     "text": [
      "drf prediction progress: |████████████████████████████████████████████████| 100%\n",
      "Confusion Matrix (Act/Pred) for max f1 @ threshold = 0.4872914410321741: \n"
     ]
    },
    {
     "data": {
      "text/html": [
       "<div style=\"overflow:auto\"><table style=\"width:50%\"><tr><td><b></b></td>\n",
       "<td><b>Good</b></td>\n",
       "<td><b>bad</b></td>\n",
       "<td><b>Error</b></td>\n",
       "<td><b>Rate</b></td></tr>\n",
       "<tr><td>Good</td>\n",
       "<td>3771.0</td>\n",
       "<td>768.0</td>\n",
       "<td>0.1692</td>\n",
       "<td> (768.0/4539.0)</td></tr>\n",
       "<tr><td>bad</td>\n",
       "<td>660.0</td>\n",
       "<td>3874.0</td>\n",
       "<td>0.1456</td>\n",
       "<td> (660.0/4534.0)</td></tr>\n",
       "<tr><td>Total</td>\n",
       "<td>4431.0</td>\n",
       "<td>4642.0</td>\n",
       "<td>0.1574</td>\n",
       "<td> (1428.0/9073.0)</td></tr></table></div>"
      ],
      "text/plain": [
       "       Good    bad    Error    Rate\n",
       "-----  ------  -----  -------  ---------------\n",
       "Good   3771    768    0.1692   (768.0/4539.0)\n",
       "bad    660     3874   0.1456   (660.0/4534.0)\n",
       "Total  4431    4642   0.1574   (1428.0/9073.0)"
      ]
     },
     "metadata": {},
     "output_type": "display_data"
    },
    {
     "name": "stdout",
     "output_type": "stream",
     "text": [
      "\n",
      "Confusion Matrix (Act/Pred) for max f1 @ threshold = 0.375073910525648: \n"
     ]
    },
    {
     "data": {
      "text/html": [
       "<div style=\"overflow:auto\"><table style=\"width:50%\"><tr><td><b></b></td>\n",
       "<td><b>Good</b></td>\n",
       "<td><b>bad</b></td>\n",
       "<td><b>Error</b></td>\n",
       "<td><b>Rate</b></td></tr>\n",
       "<tr><td>Good</td>\n",
       "<td>2468.0</td>\n",
       "<td>2071.0</td>\n",
       "<td>0.4563</td>\n",
       "<td> (2071.0/4539.0)</td></tr>\n",
       "<tr><td>bad</td>\n",
       "<td>623.0</td>\n",
       "<td>3911.0</td>\n",
       "<td>0.1374</td>\n",
       "<td> (623.0/4534.0)</td></tr>\n",
       "<tr><td>Total</td>\n",
       "<td>3091.0</td>\n",
       "<td>5982.0</td>\n",
       "<td>0.2969</td>\n",
       "<td> (2694.0/9073.0)</td></tr></table></div>"
      ],
      "text/plain": [
       "       Good    bad    Error    Rate\n",
       "-----  ------  -----  -------  ---------------\n",
       "Good   2468    2071   0.4563   (2071.0/4539.0)\n",
       "bad    623     3911   0.1374   (623.0/4534.0)\n",
       "Total  3091    5982   0.2969   (2694.0/9073.0)"
      ]
     },
     "metadata": {},
     "output_type": "display_data"
    },
    {
     "name": "stdout",
     "output_type": "stream",
     "text": [
      "\n",
      "Confusion Matrix (Act/Pred) for max f1 @ threshold = 0.35345365313511906: \n"
     ]
    },
    {
     "data": {
      "text/html": [
       "<div style=\"overflow:auto\"><table style=\"width:50%\"><tr><td><b></b></td>\n",
       "<td><b>Good</b></td>\n",
       "<td><b>bad</b></td>\n",
       "<td><b>Error</b></td>\n",
       "<td><b>Rate</b></td></tr>\n",
       "<tr><td>Good</td>\n",
       "<td>1822.0</td>\n",
       "<td>2717.0</td>\n",
       "<td>0.5986</td>\n",
       "<td> (2717.0/4539.0)</td></tr>\n",
       "<tr><td>bad</td>\n",
       "<td>575.0</td>\n",
       "<td>3959.0</td>\n",
       "<td>0.1268</td>\n",
       "<td> (575.0/4534.0)</td></tr>\n",
       "<tr><td>Total</td>\n",
       "<td>2397.0</td>\n",
       "<td>6676.0</td>\n",
       "<td>0.3628</td>\n",
       "<td> (3292.0/9073.0)</td></tr></table></div>"
      ],
      "text/plain": [
       "       Good    bad    Error    Rate\n",
       "-----  ------  -----  -------  ---------------\n",
       "Good   1822    2717   0.5986   (2717.0/4539.0)\n",
       "bad    575     3959   0.1268   (575.0/4534.0)\n",
       "Total  2397    6676   0.3628   (3292.0/9073.0)"
      ]
     },
     "metadata": {},
     "output_type": "display_data"
    },
    {
     "name": "stdout",
     "output_type": "stream",
     "text": [
      "\n"
     ]
    }
   ],
   "source": [
    "#model1.plot()\n",
    "#model1.varimp_plot()\n",
    "pred =model1.predict(test)\n",
    "print(model.confusion_matrix())\n",
    "print(model1.confusion_matrix())\n",
    "print(model2.confusion_matrix())\n",
    "#model1.roc"
   ]
  },
  {
   "cell_type": "code",
   "execution_count": 32,
   "metadata": {
    "scrolled": true
   },
   "outputs": [
    {
     "data": {
      "text/plain": [
       "'/home/lostvane/Projects/school-project/CreditScore/app/ml_model/model/GBM_model_python_1565074809758_307'"
      ]
     },
     "execution_count": 32,
     "metadata": {},
     "output_type": "execute_result"
    }
   ],
   "source": [
    "u =h2o.save_model(model,path=\"/home/lostvane/Projects/school-project/CreditScore/app/ml_model/model\")\n",
    "u"
   ]
  },
  {
   "cell_type": "code",
   "execution_count": 9,
   "metadata": {},
   "outputs": [],
   "source": [
    "silly = h2o.load_model(u)"
   ]
  },
  {
   "cell_type": "code",
   "execution_count": 10,
   "metadata": {},
   "outputs": [
    {
     "name": "stdout",
     "output_type": "stream",
     "text": [
      "Parse progress: |█████████████████████████████████████████████████████████| 100%\n",
      "gbm prediction progress: |████████████████████████████████████████████████| 100%\n"
     ]
    },
    {
     "data": {
      "text/html": [
       "<table>\n",
       "<thead>\n",
       "<tr><th>predict  </th><th style=\"text-align: right;\">     Good</th><th style=\"text-align: right;\">     bad</th></tr>\n",
       "</thead>\n",
       "<tbody>\n",
       "<tr><td>bad      </td><td style=\"text-align: right;\">0.0971677</td><td style=\"text-align: right;\">0.902832</td></tr>\n",
       "</tbody>\n",
       "</table>"
      ]
     },
     "metadata": {},
     "output_type": "display_data"
    },
    {
     "data": {
      "text/plain": []
     },
     "execution_count": 10,
     "metadata": {},
     "output_type": "execute_result"
    }
   ],
   "source": [
    "loan_amnt =1000\n",
    "funded_amnt =1000 \n",
    "installment =2 \n",
    "int_rate =10 \n",
    "term =36\n",
    "emp_length =10\n",
    "home_ownership =\"OWN\" \n",
    "annual_inc =30000\n",
    "purpose = \"car\" \n",
    "kamau =[loan_amnt,funded_amnt,installment,int_rate,term,emp_length,home_ownership,annual_inc,purpose]\n",
    "B =pd.DataFrame([kamau],columns =['loan_amnt', 'funded_amnt', 'installment', 'int_rate', 'term','emp_length', 'home_ownership', 'annual_inc', 'purpose'])\n",
    "B = h2o.H2OFrame(B)\n",
    "B\n",
    "silly.predict(B)"
   ]
  },
  {
   "cell_type": "code",
   "execution_count": 11,
   "metadata": {},
   "outputs": [
    {
     "data": {
      "text/html": [
       "<div>\n",
       "<style scoped>\n",
       "    .dataframe tbody tr th:only-of-type {\n",
       "        vertical-align: middle;\n",
       "    }\n",
       "\n",
       "    .dataframe tbody tr th {\n",
       "        vertical-align: top;\n",
       "    }\n",
       "\n",
       "    .dataframe thead th {\n",
       "        text-align: right;\n",
       "    }\n",
       "</style>\n",
       "<table border=\"1\" class=\"dataframe\">\n",
       "  <thead>\n",
       "    <tr style=\"text-align: right;\">\n",
       "      <th></th>\n",
       "      <th>loan_amnt</th>\n",
       "      <th>funded_amnt</th>\n",
       "      <th>installment</th>\n",
       "      <th>int_rate</th>\n",
       "      <th>term</th>\n",
       "      <th>emp_length</th>\n",
       "      <th>home_ownership</th>\n",
       "      <th>annual_inc</th>\n",
       "      <th>purpose</th>\n",
       "      <th>loan_status</th>\n",
       "      <th>loan_status_bin</th>\n",
       "    </tr>\n",
       "  </thead>\n",
       "  <tbody>\n",
       "    <tr>\n",
       "      <th>2626</th>\n",
       "      <td>3650.0</td>\n",
       "      <td>3650.0</td>\n",
       "      <td>91.86</td>\n",
       "      <td>17.58</td>\n",
       "      <td>60</td>\n",
       "      <td>4</td>\n",
       "      <td>RENT</td>\n",
       "      <td>29000.0</td>\n",
       "      <td>debt_consolidation</td>\n",
       "      <td>Fully Paid</td>\n",
       "      <td>Good</td>\n",
       "    </tr>\n",
       "    <tr>\n",
       "      <th>5296</th>\n",
       "      <td>10800.0</td>\n",
       "      <td>10800.0</td>\n",
       "      <td>381.25</td>\n",
       "      <td>16.29</td>\n",
       "      <td>36</td>\n",
       "      <td>9</td>\n",
       "      <td>RENT</td>\n",
       "      <td>75000.0</td>\n",
       "      <td>other</td>\n",
       "      <td>Charged Off</td>\n",
       "      <td>bad</td>\n",
       "    </tr>\n",
       "    <tr>\n",
       "      <th>11840</th>\n",
       "      <td>18225.0</td>\n",
       "      <td>15150.0</td>\n",
       "      <td>384.63</td>\n",
       "      <td>17.99</td>\n",
       "      <td>60</td>\n",
       "      <td>6</td>\n",
       "      <td>MORTGAGE</td>\n",
       "      <td>42000.0</td>\n",
       "      <td>debt_consolidation</td>\n",
       "      <td>Charged Off</td>\n",
       "      <td>bad</td>\n",
       "    </tr>\n",
       "    <tr>\n",
       "      <th>38595</th>\n",
       "      <td>12000.0</td>\n",
       "      <td>12000.0</td>\n",
       "      <td>407.17</td>\n",
       "      <td>13.49</td>\n",
       "      <td>36</td>\n",
       "      <td>1</td>\n",
       "      <td>RENT</td>\n",
       "      <td>55000.0</td>\n",
       "      <td>debt_consolidation</td>\n",
       "      <td>Charged Off</td>\n",
       "      <td>bad</td>\n",
       "    </tr>\n",
       "    <tr>\n",
       "      <th>19872</th>\n",
       "      <td>5000.0</td>\n",
       "      <td>5000.0</td>\n",
       "      <td>116.79</td>\n",
       "      <td>14.17</td>\n",
       "      <td>60</td>\n",
       "      <td>3</td>\n",
       "      <td>RENT</td>\n",
       "      <td>72000.0</td>\n",
       "      <td>credit_card</td>\n",
       "      <td>Charged Off</td>\n",
       "      <td>bad</td>\n",
       "    </tr>\n",
       "  </tbody>\n",
       "</table>\n",
       "</div>"
      ],
      "text/plain": [
       "       loan_amnt  funded_amnt  installment  int_rate  term  emp_length  \\\n",
       "2626      3650.0       3650.0        91.86     17.58    60           4   \n",
       "5296     10800.0      10800.0       381.25     16.29    36           9   \n",
       "11840    18225.0      15150.0       384.63     17.99    60           6   \n",
       "38595    12000.0      12000.0       407.17     13.49    36           1   \n",
       "19872     5000.0       5000.0       116.79     14.17    60           3   \n",
       "\n",
       "      home_ownership  annual_inc             purpose  loan_status  \\\n",
       "2626            RENT     29000.0  debt_consolidation   Fully Paid   \n",
       "5296            RENT     75000.0               other  Charged Off   \n",
       "11840       MORTGAGE     42000.0  debt_consolidation  Charged Off   \n",
       "38595           RENT     55000.0  debt_consolidation  Charged Off   \n",
       "19872           RENT     72000.0         credit_card  Charged Off   \n",
       "\n",
       "      loan_status_bin  \n",
       "2626             Good  \n",
       "5296              bad  \n",
       "11840             bad  \n",
       "38595             bad  \n",
       "19872             bad  "
      ]
     },
     "execution_count": 11,
     "metadata": {},
     "output_type": "execute_result"
    }
   ],
   "source": [
    "new.head()\n",
    "#new.columns"
   ]
  },
  {
   "cell_type": "code",
   "execution_count": null,
   "metadata": {},
   "outputs": [],
   "source": []
  },
  {
   "cell_type": "code",
   "execution_count": 14,
   "metadata": {},
   "outputs": [
    {
     "data": {
      "text/plain": [
       "'/good/GBM_model_python_1565074809758_307'"
      ]
     },
     "execution_count": 14,
     "metadata": {},
     "output_type": "execute_result"
    }
   ],
   "source": [
    "u"
   ]
  },
  {
   "cell_type": "code",
   "execution_count": 15,
   "metadata": {},
   "outputs": [
    {
     "data": {
      "text/plain": [
       "[2500.0, 2500.0, 59.83, 15.27, 60, 1, 'RENT', 30000.0, 'car', 'Charged Off', 1]"
      ]
     },
     "execution_count": 15,
     "metadata": {},
     "output_type": "execute_result"
    }
   ],
   "source": [
    "loans.head()\n",
    "list(loans.iloc[1,:])"
   ]
  },
  {
   "cell_type": "code",
   "execution_count": 16,
   "metadata": {},
   "outputs": [
    {
     "name": "stdout",
     "output_type": "stream",
     "text": [
      "gbm prediction progress: |████████████████████████████████████████████████| 100%\n"
     ]
    }
   ],
   "source": [
    "\n",
    "a =silly.predict(test[1:5,:])\n"
   ]
  },
  {
   "cell_type": "code",
   "execution_count": 17,
   "metadata": {},
   "outputs": [
    {
     "data": {
      "text/html": [
       "<table>\n",
       "<thead>\n",
       "<tr><th>predict  </th><th style=\"text-align: right;\">    Good</th><th style=\"text-align: right;\">     bad</th></tr>\n",
       "</thead>\n",
       "<tbody>\n",
       "<tr><td>bad      </td><td style=\"text-align: right;\">0.191424</td><td style=\"text-align: right;\">0.808576</td></tr>\n",
       "</tbody>\n",
       "</table>"
      ]
     },
     "metadata": {},
     "output_type": "display_data"
    },
    {
     "data": {
      "text/plain": []
     },
     "execution_count": 17,
     "metadata": {},
     "output_type": "execute_result"
    }
   ],
   "source": [
    "proba = a[0,1]\n",
    "a[0,:]"
   ]
  },
  {
   "cell_type": "code",
   "execution_count": 18,
   "metadata": {},
   "outputs": [
    {
     "data": {
      "text/plain": [
       "0.19142436715354338"
      ]
     },
     "execution_count": 18,
     "metadata": {},
     "output_type": "execute_result"
    }
   ],
   "source": [
    "proba"
   ]
  },
  {
   "cell_type": "code",
   "execution_count": 19,
   "metadata": {},
   "outputs": [
    {
     "ename": "ModuleNotFoundError",
     "evalue": "No module named 'plotnine'",
     "output_type": "error",
     "traceback": [
      "\u001b[0;31m---------------------------------------------------------------------------\u001b[0m",
      "\u001b[0;31mModuleNotFoundError\u001b[0m                       Traceback (most recent call last)",
      "\u001b[0;32m<ipython-input-19-aef85fe325ed>\u001b[0m in \u001b[0;36m<module>\u001b[0;34m\u001b[0m\n\u001b[1;32m      2\u001b[0m \u001b[0mdf\u001b[0m \u001b[0;34m=\u001b[0m\u001b[0mpd\u001b[0m\u001b[0;34m.\u001b[0m\u001b[0mDataFrame\u001b[0m\u001b[0;34m(\u001b[0m\u001b[0mv\u001b[0m\u001b[0;34m,\u001b[0m\u001b[0mcolumns\u001b[0m \u001b[0;34m=\u001b[0m\u001b[0;34m[\u001b[0m\u001b[0;34m'c1'\u001b[0m\u001b[0;34m,\u001b[0m\u001b[0;34m'c2'\u001b[0m\u001b[0;34m,\u001b[0m\u001b[0;34m'c3'\u001b[0m\u001b[0;34m,\u001b[0m\u001b[0;34m'c4'\u001b[0m\u001b[0;34m]\u001b[0m\u001b[0;34m)\u001b[0m\u001b[0;34m\u001b[0m\u001b[0;34m\u001b[0m\u001b[0m\n\u001b[1;32m      3\u001b[0m \u001b[0mx\u001b[0m \u001b[0;34m=\u001b[0m\u001b[0mpd\u001b[0m\u001b[0;34m.\u001b[0m\u001b[0mmelt\u001b[0m\u001b[0;34m(\u001b[0m\u001b[0mdf\u001b[0m\u001b[0;34m,\u001b[0m\u001b[0mid_vars\u001b[0m \u001b[0;34m=\u001b[0m \u001b[0;34m'c1'\u001b[0m\u001b[0;34m)\u001b[0m\u001b[0;34m\u001b[0m\u001b[0;34m\u001b[0m\u001b[0m\n\u001b[0;32m----> 4\u001b[0;31m \u001b[0;32mimport\u001b[0m \u001b[0mplotnine\u001b[0m\u001b[0;34m\u001b[0m\u001b[0;34m\u001b[0m\u001b[0m\n\u001b[0m\u001b[1;32m      5\u001b[0m \u001b[0;32mfrom\u001b[0m \u001b[0mplotnine\u001b[0m \u001b[0;32mimport\u001b[0m \u001b[0;34m*\u001b[0m\u001b[0;34m\u001b[0m\u001b[0;34m\u001b[0m\u001b[0m\n\u001b[1;32m      6\u001b[0m \u001b[0;34m(\u001b[0m\u001b[0mggplot\u001b[0m\u001b[0;34m(\u001b[0m\u001b[0mx\u001b[0m\u001b[0;34m,\u001b[0m\u001b[0maes\u001b[0m\u001b[0;34m(\u001b[0m\u001b[0mx\u001b[0m\u001b[0;34m=\u001b[0m\u001b[0;34m\"c1\"\u001b[0m\u001b[0;34m,\u001b[0m\u001b[0my\u001b[0m\u001b[0;34m=\u001b[0m\u001b[0;34m'value'\u001b[0m\u001b[0;34m)\u001b[0m\u001b[0;34m)\u001b[0m\u001b[0;34m+\u001b[0m\u001b[0mgeom_bar\u001b[0m\u001b[0;34m(\u001b[0m\u001b[0mstat\u001b[0m \u001b[0;34m=\u001b[0m\u001b[0;34m\"identity\"\u001b[0m\u001b[0;34m,\u001b[0m\u001b[0mfill\u001b[0m \u001b[0;34m=\u001b[0m\u001b[0;34m\"blue\"\u001b[0m\u001b[0;34m)\u001b[0m\u001b[0;34m+\u001b[0m\u001b[0mcoord_flip\u001b[0m\u001b[0;34m(\u001b[0m\u001b[0;34m)\u001b[0m\u001b[0;34m+\u001b[0m\u001b[0mlabs\u001b[0m\u001b[0;34m(\u001b[0m\u001b[0mtitle\u001b[0m\u001b[0;34m=\u001b[0m\u001b[0;34m\"Variable importance\"\u001b[0m\u001b[0;34m)\u001b[0m\u001b[0;34m)\u001b[0m\u001b[0;34m\u001b[0m\u001b[0;34m\u001b[0m\u001b[0m\n",
      "\u001b[0;31mModuleNotFoundError\u001b[0m: No module named 'plotnine'"
     ]
    }
   ],
   "source": [
    "v =silly.varimp()\n",
    "df =pd.DataFrame(v,columns =['c1','c2','c3','c4'])\n",
    "x =pd.melt(df,id_vars = 'c1')\n",
    "import plotnine\n",
    "from plotnine import *\n",
    "(ggplot(x,aes(x=\"c1\",y='value'))+geom_bar(stat =\"identity\",fill =\"blue\")+coord_flip()+labs(title=\"Variable importance\"))"
   ]
  },
  {
   "cell_type": "code",
   "execution_count": null,
   "metadata": {},
   "outputs": [],
   "source": []
  },
  {
   "cell_type": "code",
   "execution_count": 20,
   "metadata": {},
   "outputs": [
    {
     "name": "stdout",
     "output_type": "stream",
     "text": [
      "Parse progress: |█████████████████████████████████████████████████████████| 100%\n",
      "gbm Model Build progress: |███████████████████████████████████████████████| 100%\n"
     ]
    }
   ],
   "source": [
    "BB =['loan_amnt', 'installment', 'int_rate', 'term','emp_length', 'home_ownership', 'annual_inc', 'purpose',]\n",
    "F=good_loans[BB]\n",
    "F=h2o.H2OFrame(F)\n",
    "x =['installment', 'int_rate', 'term','emp_length', 'home_ownership', 'annual_inc', 'purpose',]\n",
    "train,test,valid =F.split_frame([0.9,0.05])\n",
    "reg =GB()\n",
    "reg.train(training_frame=train,validation_frame=test,x =x,y='loan_amnt')\n",
    "\n"
   ]
  },
  {
   "cell_type": "code",
   "execution_count": 21,
   "metadata": {},
   "outputs": [
    {
     "name": "stdout",
     "output_type": "stream",
     "text": [
      "gbm prediction progress: |████████████████████████████████████████████████| 100%\n"
     ]
    },
    {
     "data": {
      "text/html": [
       "<table>\n",
       "<thead>\n",
       "<tr><th style=\"text-align: right;\">  predict</th></tr>\n",
       "</thead>\n",
       "<tbody>\n",
       "<tr><td style=\"text-align: right;\">  7305.97</td></tr>\n",
       "<tr><td style=\"text-align: right;\">  9454.87</td></tr>\n",
       "</tbody>\n",
       "</table>"
      ]
     },
     "metadata": {},
     "output_type": "display_data"
    },
    {
     "data": {
      "text/plain": []
     },
     "execution_count": 21,
     "metadata": {},
     "output_type": "execute_result"
    }
   ],
   "source": [
    "G =test[:2,:]\n",
    "G=G[x]\n",
    "reg.predict(G)\n"
   ]
  },
  {
   "cell_type": "code",
   "execution_count": 22,
   "metadata": {},
   "outputs": [
    {
     "data": {
      "text/html": [
       "<table>\n",
       "<thead>\n",
       "<tr><th style=\"text-align: right;\">  loan_amnt</th><th style=\"text-align: right;\">  installment</th><th style=\"text-align: right;\">  int_rate</th><th style=\"text-align: right;\">  term</th><th style=\"text-align: right;\">  emp_length</th><th>home_ownership  </th><th style=\"text-align: right;\">  annual_inc</th><th>purpose           </th></tr>\n",
       "</thead>\n",
       "<tbody>\n",
       "<tr><td style=\"text-align: right;\">       7100</td><td style=\"text-align: right;\">       252.33</td><td style=\"text-align: right;\">     16.77</td><td style=\"text-align: right;\">    36</td><td style=\"text-align: right;\">           1</td><td>MORTGAGE        </td><td style=\"text-align: right;\">       33000</td><td>debt_consolidation</td></tr>\n",
       "<tr><td style=\"text-align: right;\">       9200</td><td style=\"text-align: right;\">       307.43</td><td style=\"text-align: right;\">     12.42</td><td style=\"text-align: right;\">    36</td><td style=\"text-align: right;\">           2</td><td>RENT            </td><td style=\"text-align: right;\">       60000</td><td>debt_consolidation</td></tr>\n",
       "</tbody>\n",
       "</table>"
      ]
     },
     "metadata": {},
     "output_type": "display_data"
    },
    {
     "data": {
      "text/plain": []
     },
     "execution_count": 22,
     "metadata": {},
     "output_type": "execute_result"
    }
   ],
   "source": [
    "test[:2,:]"
   ]
  },
  {
   "cell_type": "code",
   "execution_count": 23,
   "metadata": {},
   "outputs": [
    {
     "name": "stdout",
     "output_type": "stream",
     "text": [
      "Parse progress: |█████████████████████████████████████████████████████████| 100%\n",
      "gbm prediction progress: |████████████████████████████████████████████████| 100%\n"
     ]
    },
    {
     "data": {
      "text/html": [
       "<table>\n",
       "<thead>\n",
       "<tr><th style=\"text-align: right;\">  predict</th></tr>\n",
       "</thead>\n",
       "<tbody>\n",
       "<tr><td style=\"text-align: right;\"> 11044.8 </td></tr>\n",
       "<tr><td style=\"text-align: right;\"> 15143.6 </td></tr>\n",
       "<tr><td style=\"text-align: right;\">  9637   </td></tr>\n",
       "<tr><td style=\"text-align: right;\">  7365.06</td></tr>\n",
       "<tr><td style=\"text-align: right;\"> 25079.5 </td></tr>\n",
       "<tr><td style=\"text-align: right;\">  7331.86</td></tr>\n",
       "<tr><td style=\"text-align: right;\"> 10003.1 </td></tr>\n",
       "<tr><td style=\"text-align: right;\"> 17420.1 </td></tr>\n",
       "<tr><td style=\"text-align: right;\">  4069.95</td></tr>\n",
       "<tr><td style=\"text-align: right;\"> 10087.3 </td></tr>\n",
       "</tbody>\n",
       "</table>"
      ]
     },
     "metadata": {},
     "output_type": "display_data"
    },
    {
     "data": {
      "text/plain": []
     },
     "execution_count": 23,
     "metadata": {},
     "output_type": "execute_result"
    }
   ],
   "source": [
    "K = h2o.H2OFrame(bad_loans.iloc[40:50,:])\n",
    "K =K[x]\n",
    "reg.predict(K)"
   ]
  },
  {
   "cell_type": "code",
   "execution_count": 24,
   "metadata": {},
   "outputs": [
    {
     "data": {
      "text/html": [
       "<div>\n",
       "<style scoped>\n",
       "    .dataframe tbody tr th:only-of-type {\n",
       "        vertical-align: middle;\n",
       "    }\n",
       "\n",
       "    .dataframe tbody tr th {\n",
       "        vertical-align: top;\n",
       "    }\n",
       "\n",
       "    .dataframe thead th {\n",
       "        text-align: right;\n",
       "    }\n",
       "</style>\n",
       "<table border=\"1\" class=\"dataframe\">\n",
       "  <thead>\n",
       "    <tr style=\"text-align: right;\">\n",
       "      <th></th>\n",
       "      <th>loan_amnt</th>\n",
       "      <th>funded_amnt</th>\n",
       "      <th>installment</th>\n",
       "      <th>int_rate</th>\n",
       "      <th>term</th>\n",
       "      <th>emp_length</th>\n",
       "      <th>home_ownership</th>\n",
       "      <th>annual_inc</th>\n",
       "      <th>purpose</th>\n",
       "      <th>loan_status</th>\n",
       "      <th>loan_status_bin</th>\n",
       "    </tr>\n",
       "  </thead>\n",
       "  <tbody>\n",
       "    <tr>\n",
       "      <th>204</th>\n",
       "      <td>10500.0</td>\n",
       "      <td>10500.0</td>\n",
       "      <td>370.66</td>\n",
       "      <td>16.29</td>\n",
       "      <td>36</td>\n",
       "      <td>3</td>\n",
       "      <td>RENT</td>\n",
       "      <td>30000.0</td>\n",
       "      <td>debt_consolidation</td>\n",
       "      <td>Charged Off</td>\n",
       "      <td>1</td>\n",
       "    </tr>\n",
       "    <tr>\n",
       "      <th>212</th>\n",
       "      <td>15075.0</td>\n",
       "      <td>15075.0</td>\n",
       "      <td>517.21</td>\n",
       "      <td>14.27</td>\n",
       "      <td>36</td>\n",
       "      <td>10</td>\n",
       "      <td>RENT</td>\n",
       "      <td>35000.0</td>\n",
       "      <td>debt_consolidation</td>\n",
       "      <td>Charged Off</td>\n",
       "      <td>1</td>\n",
       "    </tr>\n",
       "    <tr>\n",
       "      <th>220</th>\n",
       "      <td>9500.0</td>\n",
       "      <td>9500.0</td>\n",
       "      <td>318.68</td>\n",
       "      <td>12.69</td>\n",
       "      <td>36</td>\n",
       "      <td>1</td>\n",
       "      <td>MORTGAGE</td>\n",
       "      <td>52500.0</td>\n",
       "      <td>moving</td>\n",
       "      <td>Charged Off</td>\n",
       "      <td>1</td>\n",
       "    </tr>\n",
       "    <tr>\n",
       "      <th>224</th>\n",
       "      <td>7200.0</td>\n",
       "      <td>7200.0</td>\n",
       "      <td>225.29</td>\n",
       "      <td>7.90</td>\n",
       "      <td>36</td>\n",
       "      <td>3</td>\n",
       "      <td>RENT</td>\n",
       "      <td>68000.0</td>\n",
       "      <td>debt_consolidation</td>\n",
       "      <td>Charged Off</td>\n",
       "      <td>1</td>\n",
       "    </tr>\n",
       "    <tr>\n",
       "      <th>225</th>\n",
       "      <td>26000.0</td>\n",
       "      <td>26000.0</td>\n",
       "      <td>642.96</td>\n",
       "      <td>16.77</td>\n",
       "      <td>60</td>\n",
       "      <td>10</td>\n",
       "      <td>MORTGAGE</td>\n",
       "      <td>53000.0</td>\n",
       "      <td>home_improvement</td>\n",
       "      <td>Charged Off</td>\n",
       "      <td>1</td>\n",
       "    </tr>\n",
       "    <tr>\n",
       "      <th>226</th>\n",
       "      <td>7000.0</td>\n",
       "      <td>7000.0</td>\n",
       "      <td>154.69</td>\n",
       "      <td>11.71</td>\n",
       "      <td>60</td>\n",
       "      <td>6</td>\n",
       "      <td>MORTGAGE</td>\n",
       "      <td>69600.0</td>\n",
       "      <td>credit_card</td>\n",
       "      <td>Charged Off</td>\n",
       "      <td>1</td>\n",
       "    </tr>\n",
       "    <tr>\n",
       "      <th>231</th>\n",
       "      <td>10000.0</td>\n",
       "      <td>10000.0</td>\n",
       "      <td>335.45</td>\n",
       "      <td>12.69</td>\n",
       "      <td>36</td>\n",
       "      <td>2</td>\n",
       "      <td>RENT</td>\n",
       "      <td>70000.0</td>\n",
       "      <td>credit_card</td>\n",
       "      <td>Charged Off</td>\n",
       "      <td>1</td>\n",
       "    </tr>\n",
       "    <tr>\n",
       "      <th>239</th>\n",
       "      <td>15600.0</td>\n",
       "      <td>15600.0</td>\n",
       "      <td>352.48</td>\n",
       "      <td>12.69</td>\n",
       "      <td>60</td>\n",
       "      <td>10</td>\n",
       "      <td>RENT</td>\n",
       "      <td>50000.0</td>\n",
       "      <td>vacation</td>\n",
       "      <td>Charged Off</td>\n",
       "      <td>1</td>\n",
       "    </tr>\n",
       "    <tr>\n",
       "      <th>251</th>\n",
       "      <td>4000.0</td>\n",
       "      <td>4000.0</td>\n",
       "      <td>134.18</td>\n",
       "      <td>12.69</td>\n",
       "      <td>36</td>\n",
       "      <td>2</td>\n",
       "      <td>RENT</td>\n",
       "      <td>25000.0</td>\n",
       "      <td>debt_consolidation</td>\n",
       "      <td>Charged Off</td>\n",
       "      <td>1</td>\n",
       "    </tr>\n",
       "    <tr>\n",
       "      <th>255</th>\n",
       "      <td>10000.0</td>\n",
       "      <td>10000.0</td>\n",
       "      <td>334.16</td>\n",
       "      <td>12.42</td>\n",
       "      <td>36</td>\n",
       "      <td>10</td>\n",
       "      <td>RENT</td>\n",
       "      <td>39000.0</td>\n",
       "      <td>credit_card</td>\n",
       "      <td>Charged Off</td>\n",
       "      <td>1</td>\n",
       "    </tr>\n",
       "  </tbody>\n",
       "</table>\n",
       "</div>"
      ],
      "text/plain": [
       "     loan_amnt  funded_amnt  installment  int_rate  term  emp_length  \\\n",
       "204    10500.0      10500.0       370.66     16.29    36           3   \n",
       "212    15075.0      15075.0       517.21     14.27    36          10   \n",
       "220     9500.0       9500.0       318.68     12.69    36           1   \n",
       "224     7200.0       7200.0       225.29      7.90    36           3   \n",
       "225    26000.0      26000.0       642.96     16.77    60          10   \n",
       "226     7000.0       7000.0       154.69     11.71    60           6   \n",
       "231    10000.0      10000.0       335.45     12.69    36           2   \n",
       "239    15600.0      15600.0       352.48     12.69    60          10   \n",
       "251     4000.0       4000.0       134.18     12.69    36           2   \n",
       "255    10000.0      10000.0       334.16     12.42    36          10   \n",
       "\n",
       "    home_ownership  annual_inc             purpose  loan_status  \\\n",
       "204           RENT     30000.0  debt_consolidation  Charged Off   \n",
       "212           RENT     35000.0  debt_consolidation  Charged Off   \n",
       "220       MORTGAGE     52500.0              moving  Charged Off   \n",
       "224           RENT     68000.0  debt_consolidation  Charged Off   \n",
       "225       MORTGAGE     53000.0    home_improvement  Charged Off   \n",
       "226       MORTGAGE     69600.0         credit_card  Charged Off   \n",
       "231           RENT     70000.0         credit_card  Charged Off   \n",
       "239           RENT     50000.0            vacation  Charged Off   \n",
       "251           RENT     25000.0  debt_consolidation  Charged Off   \n",
       "255           RENT     39000.0         credit_card  Charged Off   \n",
       "\n",
       "     loan_status_bin  \n",
       "204                1  \n",
       "212                1  \n",
       "220                1  \n",
       "224                1  \n",
       "225                1  \n",
       "226                1  \n",
       "231                1  \n",
       "239                1  \n",
       "251                1  \n",
       "255                1  "
      ]
     },
     "execution_count": 24,
     "metadata": {},
     "output_type": "execute_result"
    }
   ],
   "source": [
    "bad_loans.iloc[40:50,:]"
   ]
  },
  {
   "cell_type": "code",
   "execution_count": 25,
   "metadata": {},
   "outputs": [
    {
     "data": {
      "text/html": [
       "<div>\n",
       "<style scoped>\n",
       "    .dataframe tbody tr th:only-of-type {\n",
       "        vertical-align: middle;\n",
       "    }\n",
       "\n",
       "    .dataframe tbody tr th {\n",
       "        vertical-align: top;\n",
       "    }\n",
       "\n",
       "    .dataframe thead th {\n",
       "        text-align: right;\n",
       "    }\n",
       "</style>\n",
       "<table border=\"1\" class=\"dataframe\">\n",
       "  <thead>\n",
       "    <tr style=\"text-align: right;\">\n",
       "      <th></th>\n",
       "      <th>BANKS</th>\n",
       "      <th>LOANS</th>\n",
       "      <th>RATES</th>\n",
       "      <th>MAX_AMOUNT</th>\n",
       "    </tr>\n",
       "  </thead>\n",
       "  <tbody>\n",
       "  </tbody>\n",
       "</table>\n",
       "</div>"
      ],
      "text/plain": [
       "Empty DataFrame\n",
       "Columns: [BANKS, LOANS, RATES, MAX_AMOUNT]\n",
       "Index: []"
      ]
     },
     "execution_count": 25,
     "metadata": {},
     "output_type": "execute_result"
    }
   ],
   "source": [
    "banks = ['KCB BANK', 'EQUITY BANK','COOPERATIVE BANK','FAMILY BANK','STANBIC', 'GITHIRI','MSHWARI']\n",
    "loans = ['Fuzu loan', 'Jiajiri loan', 'Chama loan', 'Chetu loans', 'Tusome loans','loan on items','mobile loan']\n",
    "rates = [14,12,15,7,4,20,80]\n",
    "import random\n",
    "max_amount = [random.randint(1000, 10000) for i in range(len(banks))]\n",
    "\n",
    "empty = pd.DataFrame()\n",
    "empty['BANKS']=banks\n",
    "empty['LOANS']=loans\n",
    "empty['RATES'] = rates\n",
    "empty['MAX_AMOUNT'] = max_amount\n",
    "\n",
    "empty.columns\n",
    "pd.DataFrame(columns =['BANKS', 'LOANS', 'RATES', 'MAX_AMOUNT'])"
   ]
  },
  {
   "cell_type": "code",
   "execution_count": 26,
   "metadata": {},
   "outputs": [
    {
     "data": {
      "text/plain": [
       "[7142]"
      ]
     },
     "execution_count": 26,
     "metadata": {},
     "output_type": "execute_result"
    }
   ],
   "source": [
    "def trump(x,df):\n",
    "    if x*100<21:\n",
    "        return pd.DataFrame()\n",
    "    elif x*100<30:\n",
    "        fil=df.RATES>14\n",
    "        fil1 =df.RATES<20\n",
    "        return df[fil &fil1 ]\n",
    "    elif x*100<40:\n",
    "        fil=df.RATES>=10\n",
    "        fil1 =df.RATES<14\n",
    "        return df[fil &fil1 ]\n",
    "    elif x*100<50:\n",
    "        fil=df.RATES>5\n",
    "        fil1 =df.RATES<10\n",
    "        return df[fil &fil1 ]\n",
    "    else:\n",
    "        filters =df.RATES<5\n",
    "        return df[filters]\n",
    "B =trump(0.22,empty)\n",
    "B.shape[0]\n",
    "banks =[i for i in B.BANKS[:2]]\n",
    "loans =[i for i in B.LOANS[:2]]\n",
    "interest =[i for i in B.RATES[:2]]\n",
    "maxi =[i for i in B.MAX_AMOUNT[:2]]\n",
    "banks\n",
    "loans\n",
    "interest\n",
    "maxi"
   ]
  },
  {
   "cell_type": "code",
   "execution_count": 27,
   "metadata": {},
   "outputs": [
    {
     "data": {
      "text/plain": [
       "2    COOPERATIVE BANK\n",
       "Name: BANKS, dtype: object"
      ]
     },
     "execution_count": 27,
     "metadata": {},
     "output_type": "execute_result"
    }
   ],
   "source": [
    "B.BANKS"
   ]
  },
  {
   "cell_type": "code",
   "execution_count": 28,
   "metadata": {},
   "outputs": [],
   "source": [
    "empty.to_csv('loans.csv')"
   ]
  },
  {
   "cell_type": "code",
   "execution_count": null,
   "metadata": {},
   "outputs": [],
   "source": []
  }
 ],
 "metadata": {
  "kernelspec": {
   "display_name": "Python 3",
   "language": "python",
   "name": "python3"
  },
  "language_info": {
   "codemirror_mode": {
    "name": "ipython",
    "version": 3
   },
   "file_extension": ".py",
   "mimetype": "text/x-python",
   "name": "python",
   "nbconvert_exporter": "python",
   "pygments_lexer": "ipython3",
   "version": "3.6.8"
  }
 },
 "nbformat": 4,
 "nbformat_minor": 2
}
