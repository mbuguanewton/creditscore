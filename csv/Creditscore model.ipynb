{
 "cells": [
  {
   "cell_type": "code",
   "execution_count": 1,
   "metadata": {},
   "outputs": [
    {
     "name": "stdout",
     "output_type": "stream",
     "text": [
      "\u001b[33mWARNING: The directory '/home/lostvane/.cache/pip/http' or its parent directory is not owned by the current user and the cache has been disabled. Please check the permissions and owner of that directory. If executing pip with sudo, you may want sudo's -H flag.\u001b[0m\n",
      "\u001b[33mWARNING: The directory '/home/lostvane/.cache/pip' or its parent directory is not owned by the current user and caching wheels has been disabled. check the permissions and owner of that directory. If executing pip with sudo, you may want sudo's -H flag.\u001b[0m\n",
      "Collecting h2o\n",
      "\u001b[?25l  Downloading https://files.pythonhosted.org/packages/5b/73/588dd867f9b41a39d313ac03d8642d2c9dd1fbef8155e5ba50f03ffa29c1/h2o-3.26.0.2.tar.gz (122.7MB)\n",
      "\u001b[K     |█████▉                          | 22.2MB 46kB/s eta 0:35:455\u001b[31mERROR: Exception:\n",
      "Traceback (most recent call last):\n",
      "  File \"/usr/local/lib/python3.6/dist-packages/pip/_vendor/urllib3/response.py\", line 397, in _error_catcher\n",
      "    yield\n",
      "  File \"/usr/local/lib/python3.6/dist-packages/pip/_vendor/urllib3/response.py\", line 479, in read\n",
      "    data = self._fp.read(amt)\n",
      "  File \"/usr/local/lib/python3.6/dist-packages/pip/_vendor/cachecontrol/filewrapper.py\", line 62, in read\n",
      "    data = self.__fp.read(amt)\n",
      "  File \"/usr/lib/python3.6/http/client.py\", line 449, in read\n",
      "    n = self.readinto(b)\n",
      "  File \"/usr/lib/python3.6/http/client.py\", line 493, in readinto\n",
      "    n = self.fp.readinto(b)\n",
      "  File \"/usr/lib/python3.6/socket.py\", line 586, in readinto\n",
      "    return self._sock.recv_into(b)\n",
      "  File \"/usr/lib/python3.6/ssl.py\", line 1012, in recv_into\n",
      "    return self.read(nbytes, buffer)\n",
      "  File \"/usr/lib/python3.6/ssl.py\", line 874, in read\n",
      "    return self._sslobj.read(len, buffer)\n",
      "  File \"/usr/lib/python3.6/ssl.py\", line 631, in read\n",
      "    v = self._sslobj.read(len, buffer)\n",
      "socket.timeout: The read operation timed out\n",
      "\n",
      "During handling of the above exception, another exception occurred:\n",
      "\n",
      "Traceback (most recent call last):\n",
      "  File \"/usr/local/lib/python3.6/dist-packages/pip/_internal/cli/base_command.py\", line 188, in main\n",
      "    status = self.run(options, args)\n",
      "  File \"/usr/local/lib/python3.6/dist-packages/pip/_internal/commands/install.py\", line 345, in run\n",
      "    resolver.resolve(requirement_set)\n",
      "  File \"/usr/local/lib/python3.6/dist-packages/pip/_internal/legacy_resolve.py\", line 196, in resolve\n",
      "    self._resolve_one(requirement_set, req)\n",
      "  File \"/usr/local/lib/python3.6/dist-packages/pip/_internal/legacy_resolve.py\", line 359, in _resolve_one\n",
      "    abstract_dist = self._get_abstract_dist_for(req_to_install)\n",
      "  File \"/usr/local/lib/python3.6/dist-packages/pip/_internal/legacy_resolve.py\", line 307, in _get_abstract_dist_for\n",
      "    self.require_hashes\n",
      "  File \"/usr/local/lib/python3.6/dist-packages/pip/_internal/operations/prepare.py\", line 199, in prepare_linked_requirement\n",
      "    progress_bar=self.progress_bar\n",
      "  File \"/usr/local/lib/python3.6/dist-packages/pip/_internal/download.py\", line 1050, in unpack_url\n",
      "    progress_bar=progress_bar\n",
      "  File \"/usr/local/lib/python3.6/dist-packages/pip/_internal/download.py\", line 910, in unpack_http_url\n",
      "    progress_bar)\n",
      "  File \"/usr/local/lib/python3.6/dist-packages/pip/_internal/download.py\", line 1138, in _download_http_url\n",
      "    _download_url(resp, link, content_file, hashes, progress_bar)\n",
      "  File \"/usr/local/lib/python3.6/dist-packages/pip/_internal/download.py\", line 847, in _download_url\n",
      "    hashes.check_against_chunks(downloaded_chunks)\n",
      "  File \"/usr/local/lib/python3.6/dist-packages/pip/_internal/utils/hashes.py\", line 75, in check_against_chunks\n",
      "    for chunk in chunks:\n",
      "  File \"/usr/local/lib/python3.6/dist-packages/pip/_internal/download.py\", line 815, in written_chunks\n",
      "    for chunk in chunks:\n",
      "  File \"/usr/local/lib/python3.6/dist-packages/pip/_internal/utils/ui.py\", line 156, in iter\n",
      "    for x in it:\n",
      "  File \"/usr/local/lib/python3.6/dist-packages/pip/_internal/download.py\", line 804, in resp_read\n",
      "    decode_content=False):\n",
      "  File \"/usr/local/lib/python3.6/dist-packages/pip/_vendor/urllib3/response.py\", line 531, in stream\n",
      "    data = self.read(amt=amt, decode_content=decode_content)\n",
      "  File \"/usr/local/lib/python3.6/dist-packages/pip/_vendor/urllib3/response.py\", line 496, in read\n",
      "    raise IncompleteRead(self._fp_bytes_read, self.length_remaining)\n",
      "  File \"/usr/lib/python3.6/contextlib.py\", line 99, in __exit__\n",
      "    self.gen.throw(type, value, traceback)\n",
      "  File \"/usr/local/lib/python3.6/dist-packages/pip/_vendor/urllib3/response.py\", line 402, in _error_catcher\n",
      "    raise ReadTimeoutError(self._pool, None, 'Read timed out.')\n",
      "pip._vendor.urllib3.exceptions.ReadTimeoutError: HTTPSConnectionPool(host='files.pythonhosted.org', port=443): Read timed out.\u001b[0m\n"
     ]
    }
   ],
   "source": [
    "!pip install h2o"
   ]
  },
  {
   "cell_type": "code",
   "execution_count": null,
   "metadata": {},
   "outputs": [],
   "source": []
  }
 ],
 "metadata": {
  "kernelspec": {
   "display_name": "Python 3",
   "language": "python",
   "name": "python3"
  },
  "language_info": {
   "codemirror_mode": {
    "name": "ipython",
    "version": 3
   },
   "file_extension": ".py",
   "mimetype": "text/x-python",
   "name": "python",
   "nbconvert_exporter": "python",
   "pygments_lexer": "ipython3",
   "version": "3.6.8"
  }
 },
 "nbformat": 4,
 "nbformat_minor": 2
}
